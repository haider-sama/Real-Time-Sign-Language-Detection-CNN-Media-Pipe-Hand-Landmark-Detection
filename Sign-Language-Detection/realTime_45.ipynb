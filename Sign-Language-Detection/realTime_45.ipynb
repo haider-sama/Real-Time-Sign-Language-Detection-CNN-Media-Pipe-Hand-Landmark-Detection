{
 "cells": [
  {
   "cell_type": "code",
   "execution_count": 1,
   "id": "91bc02f1",
   "metadata": {},
   "outputs": [],
   "source": [
    "import cv2\n",
    "import mediapipe as mp\n",
    "import torch\n",
    "import numpy as np\n",
    "import pandas as pd\n",
    "from CNNModel import CNNModel"
   ]
  },
  {
   "cell_type": "code",
   "execution_count": 2,
   "id": "37b58979",
   "metadata": {},
   "outputs": [
    {
     "name": "stderr",
     "output_type": "stream",
     "text": [
      "C:\\Users\\ApriZon\\AppData\\Local\\Temp\\ipykernel_8416\\1359024087.py:3: FutureWarning: You are using `torch.load` with `weights_only=False` (the current default value), which uses the default pickle module implicitly. It is possible to construct malicious pickle data which will execute arbitrary code during unpickling (See https://github.com/pytorch/pytorch/blob/main/SECURITY.md#untrusted-models for more details). In a future release, the default value for `weights_only` will be flipped to `True`. This limits the functions that could be executed during unpickling. Arbitrary objects will no longer be allowed to be loaded via this mode unless they are explicitly allowlisted by the user via `torch.serialization.add_safe_globals`. We recommend you start setting `weights_only=True` for any use case where you don't have full control of the loaded file. Please open an issue on GitHub for any issues related to this experimental feature.\n",
      "  model.load_state_dict(torch.load(\"CNN_model_alphabet_SIBI.pth\"))\n"
     ]
    },
    {
     "data": {
      "text/plain": [
       "<All keys matched successfully>"
      ]
     },
     "execution_count": 2,
     "metadata": {},
     "output_type": "execute_result"
    }
   ],
   "source": [
    "# Load the model\n",
    "model = CNNModel()\n",
    "model.load_state_dict(torch.load(\"CNN_model_alphabet_SIBI.pth\"))"
   ]
  },
  {
   "cell_type": "code",
   "execution_count": 3,
   "id": "2cfab72e",
   "metadata": {},
   "outputs": [],
   "source": [
    "cap = cv2.VideoCapture(0)"
   ]
  },
  {
   "cell_type": "code",
   "execution_count": 4,
   "id": "3ecaa4d5",
   "metadata": {},
   "outputs": [],
   "source": [
    "# Initialize MediaPipe Hands and drawing utilities\n",
    "handTracker = mp.solutions.hands\n",
    "handDetector = handTracker.Hands(static_image_mode=True, min_detection_confidence=0.2)\n",
    "drawing = mp.solutions.drawing_utils\n",
    "drawingStyles = mp.solutions.drawing_styles"
   ]
  },
  {
   "cell_type": "code",
   "execution_count": 5,
   "id": "4a10d97d",
   "metadata": {},
   "outputs": [],
   "source": [
    "# Class mapping\n",
    "classes = {\n",
    "    'A': 0, 'B': 1, 'C': 2, 'D': 3, 'E': 4, 'F': 5, 'G': 6, 'H': 7, 'I': 8, 'J': 9,\n",
    "    'K': 10, 'L': 11, 'M': 12, 'N': 13, 'O': 14, 'P': 15, 'Q': 16, 'R': 17, 'S': 18, 'T': 19,\n",
    "    'U': 20, 'V': 21, 'W': 22, 'X': 23, 'Y': 24, 'Z': 25\n",
    "}"
   ]
  },
  {
   "cell_type": "code",
   "execution_count": 6,
   "id": "fd44b94c",
   "metadata": {},
   "outputs": [
    {
     "data": {
      "text/plain": [
       "CNNModel(\n",
       "  (cnnLayers): Sequential(\n",
       "    (0): Conv1d(63, 32, kernel_size=(3,), stride=(1,), padding=(2,))\n",
       "    (1): BatchNorm1d(32, eps=1e-05, momentum=0.1, affine=True, track_running_stats=True)\n",
       "    (2): ReLU()\n",
       "    (3): Conv1d(32, 64, kernel_size=(3,), stride=(1,), padding=(2,))\n",
       "    (4): BatchNorm1d(64, eps=1e-05, momentum=0.1, affine=True, track_running_stats=True)\n",
       "    (5): ReLU()\n",
       "    (6): MaxPool1d(kernel_size=2, stride=2, padding=0, dilation=1, ceil_mode=False)\n",
       "    (7): Conv1d(64, 128, kernel_size=(3,), stride=(1,), padding=(2,))\n",
       "    (8): BatchNorm1d(128, eps=1e-05, momentum=0.1, affine=True, track_running_stats=True)\n",
       "    (9): ReLU()\n",
       "    (10): Dropout(p=0.3, inplace=False)\n",
       "    (11): Conv1d(128, 256, kernel_size=(3,), stride=(1,), padding=(2,))\n",
       "    (12): BatchNorm1d(256, eps=1e-05, momentum=0.1, affine=True, track_running_stats=True)\n",
       "    (13): ReLU()\n",
       "    (14): MaxPool1d(kernel_size=2, stride=2, padding=0, dilation=1, ceil_mode=False)\n",
       "    (15): Conv1d(256, 512, kernel_size=(5,), stride=(1,), padding=(2,))\n",
       "    (16): BatchNorm1d(512, eps=1e-05, momentum=0.1, affine=True, track_running_stats=True)\n",
       "    (17): ReLU()\n",
       "    (18): MaxPool1d(kernel_size=2, stride=2, padding=0, dilation=1, ceil_mode=False)\n",
       "    (19): Conv1d(512, 512, kernel_size=(5,), stride=(1,), padding=(2,))\n",
       "    (20): BatchNorm1d(512, eps=1e-05, momentum=0.1, affine=True, track_running_stats=True)\n",
       "    (21): ReLU()\n",
       "    (22): Dropout(p=0.3, inplace=False)\n",
       "  )\n",
       "  (linearLayers): Sequential(\n",
       "    (0): Linear(in_features=512, out_features=26, bias=True)\n",
       "    (1): BatchNorm1d(26, eps=1e-05, momentum=0.1, affine=True, track_running_stats=True)\n",
       "    (2): ReLU()\n",
       "  )\n",
       ")"
      ]
     },
     "execution_count": 6,
     "metadata": {},
     "output_type": "execute_result"
    }
   ],
   "source": [
    "model.eval()"
   ]
  },
  {
   "cell_type": "code",
   "execution_count": null,
   "id": "3c23eaa8",
   "metadata": {},
   "outputs": [],
   "source": [
    "while True:\n",
    "    ret, frame = cap.read()\n",
    "    if not ret:\n",
    "        print(\"Failed to capture frame from webcam.\")\n",
    "        break\n",
    "\n",
    "    # Flip the frame for a mirrored view\n",
    "    frame = cv2.flip(frame, 1)\n",
    "\n",
    "    height, width, _ = frame.shape\n",
    "    frameRGB = cv2.cvtColor(frame, cv2.COLOR_BGR2RGB)\n",
    "    imgMediapipe = handDetector.process(frameRGB)\n",
    "\n",
    "    coordinates = []\n",
    "    x_Coordinates = []\n",
    "    y_Coordinates = []\n",
    "    z_Coordinates = []\n",
    "\n",
    "    if imgMediapipe.multi_hand_landmarks:\n",
    "        for handLandmarks in imgMediapipe.multi_hand_landmarks:\n",
    "            drawing.draw_landmarks(\n",
    "                frame,  # Image to draw\n",
    "                handLandmarks,  # Model output\n",
    "                handTracker.HAND_CONNECTIONS,  # Hand connections\n",
    "                drawingStyles.get_default_hand_landmarks_style(),\n",
    "                drawingStyles.get_default_hand_connections_style()\n",
    "            )\n",
    "\n",
    "            data = {}\n",
    "            for lm in handLandmarks.landmark:\n",
    "                x_Coordinates.append(lm.x)\n",
    "                y_Coordinates.append(lm.y)\n",
    "                z_Coordinates.append(lm.z)\n",
    "\n",
    "            for i, landmark in enumerate(handTracker.HandLandmark):  # Apply Min-Max normalization\n",
    "                lm = handLandmarks.landmark[i]\n",
    "                data[f'{landmark.name}_x'] = lm.x - min(x_Coordinates)\n",
    "                data[f'{landmark.name}_y'] = lm.y - min(y_Coordinates)\n",
    "                data[f'{landmark.name}_z'] = lm.z - min(z_Coordinates)\n",
    "\n",
    "            coordinates.append(data)\n",
    "\n",
    "        x1 = int(min(x_Coordinates) * width) - 10\n",
    "        y1 = int(min(y_Coordinates) * height) - 10\n",
    "        x2 = int(max(x_Coordinates) * width) - 10\n",
    "        y2 = int(max(y_Coordinates) * height) - 10\n",
    "\n",
    "        predictions = []\n",
    "        coordinates = pd.DataFrame(coordinates)\n",
    "        coordinates = np.reshape(coordinates.values, (coordinates.shape[0], 63, 1))\n",
    "        coordinates = torch.from_numpy(coordinates).float()\n",
    "\n",
    "        with torch.no_grad():\n",
    "            outputs = model(coordinates)\n",
    "            _, predicted = torch.max(outputs.data, 1)\n",
    "            predictions = predicted.cpu().numpy()\n",
    "\n",
    "        predicted_character = [key for key, value in classes.items() if value == predictions[0]][0]\n",
    "\n",
    "        cv2.rectangle(frame, (x1, y1), (x2, y2), (0, 0, 0), 4)\n",
    "        cv2.putText(\n",
    "            frame, predicted_character, (x1, y1 - 10),\n",
    "            cv2.FONT_HERSHEY_SIMPLEX, 1.3, (0, 0, 0), 3, cv2.LINE_AA\n",
    "        )\n",
    "\n",
    "    cv2.imshow('Hand Gesture Recognition', frame)\n",
    "    if cv2.waitKey(1) & 0xFF == ord('q'):\n",
    "        break  # Exit the loop if 'q' is pressed"
   ]
  },
  {
   "cell_type": "code",
   "execution_count": null,
   "id": "e170f778",
   "metadata": {},
   "outputs": [],
   "source": [
    "cap.release()\n",
    "cv2.destroyAllWindows()"
   ]
  }
 ],
 "metadata": {
  "jupytext": {
   "cell_metadata_filter": "-all",
   "main_language": "python",
   "notebook_metadata_filter": "-all"
  },
  "kernelspec": {
   "display_name": "Python 3 (ipykernel)",
   "language": "python",
   "name": "python3"
  },
  "language_info": {
   "codemirror_mode": {
    "name": "ipython",
    "version": 3
   },
   "file_extension": ".py",
   "mimetype": "text/x-python",
   "name": "python",
   "nbconvert_exporter": "python",
   "pygments_lexer": "ipython3",
   "version": "3.12.3"
  }
 },
 "nbformat": 4,
 "nbformat_minor": 5
}
