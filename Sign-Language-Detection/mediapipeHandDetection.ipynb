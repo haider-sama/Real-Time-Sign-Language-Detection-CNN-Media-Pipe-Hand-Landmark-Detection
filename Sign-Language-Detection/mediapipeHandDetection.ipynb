{
 "cells": [
  {
   "cell_type": "code",
   "execution_count": null,
   "id": "050ae33e",
   "metadata": {},
   "outputs": [],
   "source": [
    "import cv2\n",
    "import mediapipe as mp\n",
    "import numpy as np"
   ]
  },
  {
   "cell_type": "code",
   "execution_count": null,
   "id": "5be3d1e0",
   "metadata": {},
   "outputs": [],
   "source": [
    "# Initialize the video capture\n",
    "cap = cv2.VideoCapture(0)"
   ]
  },
  {
   "cell_type": "code",
   "execution_count": null,
   "id": "e6887222",
   "metadata": {},
   "outputs": [],
   "source": [
    "# Initialize MediaPipe Hands and drawing utilities\n",
    "handTracker = mp.solutions.hands\n",
    "handDetector = handTracker.Hands(static_image_mode=False, min_detection_confidence=0.2)\n",
    "drawing = mp.solutions.drawing_utils\n",
    "drawingStyles = mp.solutions.drawing_styles"
   ]
  },
  {
   "cell_type": "code",
   "execution_count": null,
   "id": "8a7bc32b",
   "metadata": {},
   "outputs": [],
   "source": [
    "while True:\n",
    "    # Capture frame from the webcam\n",
    "    ret, frame = cap.read()\n",
    "    if not ret:\n",
    "        print(\"Failed to capture frame from the webcam.\")\n",
    "        break\n",
    "\n",
    "    # Flip the frame for a mirrored view\n",
    "    frame = cv2.flip(frame, 1)\n",
    "\n",
    "    # Convert the frame to RGB\n",
    "    frameRGB = cv2.cvtColor(frame, cv2.COLOR_BGR2RGB)\n",
    "\n",
    "    # Process the frame with MediaPipe Hands\n",
    "    imgMediapipe = handDetector.process(frameRGB)\n",
    "\n",
    "    # Draw hand landmarks if detected\n",
    "    if imgMediapipe.multi_hand_landmarks:\n",
    "        for handLandmarks in imgMediapipe.multi_hand_landmarks:\n",
    "            drawing.draw_landmarks(\n",
    "                frame,  # Image to draw on\n",
    "                handLandmarks,  # Detected hand landmarks\n",
    "                handTracker.HAND_CONNECTIONS,  # Hand connections\n",
    "                drawingStyles.get_default_hand_landmarks_style(),\n",
    "                drawingStyles.get_default_hand_connections_style()\n",
    "            )\n",
    "\n",
    "    # Display the frame\n",
    "    cv2.imshow('Hand Tracking', frame)\n",
    "\n",
    "    # Exit the loop if 'q' is pressed\n",
    "    if cv2.waitKey(1) & 0xFF == ord('q'):\n",
    "        break"
   ]
  },
  {
   "cell_type": "code",
   "execution_count": null,
   "id": "c47ebe01",
   "metadata": {},
   "outputs": [],
   "source": [
    "# Release resources\n",
    "cap.release()\n",
    "cv2.destroyAllWindows()"
   ]
  }
 ],
 "metadata": {
  "jupytext": {
   "cell_metadata_filter": "-all",
   "main_language": "python",
   "notebook_metadata_filter": "-all"
  }
 },
 "nbformat": 4,
 "nbformat_minor": 5
}
