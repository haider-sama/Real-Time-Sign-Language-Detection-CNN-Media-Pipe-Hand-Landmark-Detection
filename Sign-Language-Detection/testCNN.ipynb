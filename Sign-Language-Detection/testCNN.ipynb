{
 "cells": [
  {
   "cell_type": "code",
   "execution_count": null,
   "id": "c4f30414",
   "metadata": {
    "lines_to_next_cell": 1
   },
   "outputs": [],
   "source": [
    "import numpy as np\n",
    "import pandas as pd\n",
    "import torch\n",
    "from sklearn.metrics import accuracy_score, confusion_matrix, precision_score, recall_score, f1_score\n",
    "import matplotlib.pyplot as plt\n",
    "import seaborn as sns\n",
    "from CNN.CNNModel import CNNModel "
   ]
  },
  {
   "cell_type": "code",
   "execution_count": null,
   "id": "e4af0cf8",
   "metadata": {
    "lines_to_next_cell": 1
   },
   "outputs": [],
   "source": [
    "# Plot the confusion matrix\n",
    "def plotConfusionMatrix(confusionMatrix, classNames):\n",
    "    plt.figure(figsize=(10, 7))\n",
    "    sns.heatmap(confusionMatrix, annot=True, fmt='g', xticklabels=classNames, yticklabels=classNames)\n",
    "    plt.xlabel('Predicted labels')\n",
    "    plt.ylabel('True labels')\n",
    "    plt.title('Confusion Matrix')\n",
    "    plt.show()"
   ]
  },
  {
   "cell_type": "code",
   "execution_count": null,
   "id": "7ad0a4f9",
   "metadata": {},
   "outputs": [],
   "source": [
    "# Load the model\n",
    "model = CNNModel()\n",
    "model.load_state_dict(torch.load(\"CNN_model_alphabet_SIBI.pth\"))"
   ]
  },
  {
   "cell_type": "code",
   "execution_count": null,
   "id": "b200471d",
   "metadata": {},
   "outputs": [],
   "source": [
    "model.eval()"
   ]
  },
  {
   "cell_type": "code",
   "execution_count": null,
   "id": "f4ada792",
   "metadata": {},
   "outputs": [],
   "source": [
    "# Load data\n",
    "data = pd.read_excel(\"../featureExtraction/alphabet_testing_data.xlsx\", header=0)\n",
    "# data = pd.read_excel(\"../featureExtraction/numbers_testing_data.xlsx\", header=0)\n",
    "# data = pd.read_excel(\"../featureExtraction/asl_alphabet_testing_data.xlsx\", header=0)\n",
    "data.pop(\"CHARACTER\")\n",
    "groupValue, coordinates = data.pop(\"GROUPVALUE\"), data.copy()\n",
    "coordinates = np.reshape(coordinates.values, (coordinates.shape[0], 63, 1))\n",
    "coordinates = torch.from_numpy(coordinates).float()\n",
    "coordinates = [coordinates]\n",
    "groupValue = groupValue.to_numpy()"
   ]
  },
  {
   "cell_type": "code",
   "execution_count": null,
   "id": "e05d0666",
   "metadata": {},
   "outputs": [],
   "source": [
    "predictions = []"
   ]
  },
  {
   "cell_type": "code",
   "execution_count": null,
   "id": "ebe32cde",
   "metadata": {},
   "outputs": [],
   "source": [
    "with torch.no_grad():\n",
    "    for inputs in coordinates:\n",
    "        outputs = model(inputs)\n",
    "        _, predicted = torch.max(outputs.data, 1)\n",
    "        predictions.extend(predicted.cpu().numpy())"
   ]
  },
  {
   "cell_type": "code",
   "execution_count": null,
   "id": "2b9d75fc",
   "metadata": {},
   "outputs": [],
   "source": [
    "accuracy = accuracy_score(predictions, groupValue)\n",
    "precision = precision_score(groupValue, predictions, average='weighted', zero_division=0)\n",
    "recall = recall_score(groupValue, predictions, average='weighted', zero_division=0)\n",
    "f1 = f1_score(groupValue, predictions, average='weighted', zero_division=0)"
   ]
  },
  {
   "cell_type": "code",
   "execution_count": null,
   "id": "b126066b",
   "metadata": {},
   "outputs": [],
   "source": [
    "print(f\"Test Accuracy: {accuracy * 100:.2f}%\")\n",
    "print(f\"Precision: {precision * 100:.2f}\")\n",
    "print(f\"Recall: {recall * 100:.2f}\")\n",
    "print(f\"F1-Score: {f1 * 100:.2f}\")"
   ]
  },
  {
   "cell_type": "code",
   "execution_count": null,
   "id": "b6c77040",
   "metadata": {},
   "outputs": [],
   "source": [
    "classNames = [\"A\", \"B\", \"C\", \"D\", \"E\", \"F\", \"G\", \"H\", \"I\", \"J\", \"K\", \"L\", \"M\", \"N\", \"O\", \"P\", \"Q\", \"R\", \"S\", \"T\", \"U\", \"V\", \"W\", \"X\", \"Y\", \"Z\"]\n",
    "# classNames = [\"0\", \"1\", \"2\", \"3\", \"4\", \"5\", \"6\", \"7\", \"8\", \"9\"]"
   ]
  },
  {
   "cell_type": "code",
   "execution_count": null,
   "id": "9d445670",
   "metadata": {},
   "outputs": [],
   "source": [
    "# Compute the confusion matrix\n",
    "confusionMatrix = confusion_matrix(groupValue, predictions)"
   ]
  },
  {
   "cell_type": "code",
   "execution_count": null,
   "id": "d1f50ef8",
   "metadata": {},
   "outputs": [],
   "source": [
    "plotConfusionMatrix(confusionMatrix, classNames)"
   ]
  }
 ],
 "metadata": {
  "jupytext": {
   "cell_metadata_filter": "-all",
   "main_language": "python",
   "notebook_metadata_filter": "-all"
  }
 },
 "nbformat": 4,
 "nbformat_minor": 5
}
